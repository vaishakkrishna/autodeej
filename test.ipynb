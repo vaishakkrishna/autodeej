{
 "cells": [
  {
   "cell_type": "code",
   "execution_count": 1,
   "metadata": {},
   "outputs": [],
   "source": [
    "import librosa"
   ]
  },
  {
   "cell_type": "code",
   "execution_count": 7,
   "metadata": {},
   "outputs": [
    {
     "name": "stdout",
     "output_type": "stream",
     "text": [
      "Estimated tempo: 151.99908088235293 beats per minute\n"
     ]
    }
   ],
   "source": [
    "# filename = librosa.example('nutcracker')\n",
    "filename = \"songs/Drake - Pain 1993 (Audio) ft. Playboi Carti.mp3\"\n",
    "y, sr = librosa.load(filename)\n",
    "# . Run the default beat tracker\n",
    "tempo, beat_frames = librosa.beat.beat_track(y=y, sr=sr)\n",
    "\n",
    "print(f'Estimated tempo: {tempo} beats per minute')\n",
    "\n",
    "# . Convert the frame indices of beat events into timestamps\n",
    "beat_times = librosa.frames_to_time(beat_frames, sr=sr)"
   ]
  },
  {
   "cell_type": "code",
   "execution_count": 12,
   "metadata": {},
   "outputs": [
    {
     "data": {
      "text/plain": [
       "0.9287981859410431"
      ]
     },
     "execution_count": 12,
     "metadata": {},
     "output_type": "execute_result"
    }
   ],
   "source": [
    "beat_times[2]"
   ]
  },
  {
   "cell_type": "code",
   "execution_count": 13,
   "metadata": {},
   "outputs": [],
   "source": [
    "from tests import test_beats_visual"
   ]
  },
  {
   "cell_type": "code",
   "execution_count": 16,
   "metadata": {},
   "outputs": [
    {
     "name": "stdout",
     "output_type": "stream",
     "text": [
      "Estimated tempo: 151.99908088235293 beats per minute\n"
     ]
    },
    {
     "ename": "IndexError",
     "evalue": "index 385 is out of bounds for axis 0 with size 385",
     "output_type": "error",
     "traceback": [
      "\u001b[0;31m---------------------------------------------------------------------------\u001b[0m",
      "\u001b[0;31mIndexError\u001b[0m                                Traceback (most recent call last)",
      "Cell \u001b[0;32mIn[16], line 1\u001b[0m\n\u001b[0;32m----> 1\u001b[0m \u001b[43mtest_beats_visual\u001b[49m\u001b[43m(\u001b[49m\u001b[38;5;124;43m\"\u001b[39;49m\u001b[38;5;124;43m./songs/Drake - Pain 1993 (Audio) ft. Playboi Carti.mp3\u001b[39;49m\u001b[38;5;124;43m\"\u001b[39;49m\u001b[43m)\u001b[49m\n",
      "File \u001b[0;32m~/Documents/PersonalProjects/autodeej/tests/beat_extraction/test_tempo.py:66\u001b[0m, in \u001b[0;36mtest_beats_visual\u001b[0;34m(song_filepath)\u001b[0m\n\u001b[1;32m     64\u001b[0m     screen\u001b[38;5;241m.\u001b[39mblit(surf_1 \u001b[38;5;28;01mif\u001b[39;00m counter\u001b[38;5;241m%\u001b[39m\u001b[38;5;241m2\u001b[39m \u001b[38;5;28;01melse\u001b[39;00m surf_2, (X\u001b[38;5;241m/\u001b[39m\u001b[38;5;241m2\u001b[39m, Y\u001b[38;5;241m/\u001b[39m\u001b[38;5;241m2\u001b[39m))\n\u001b[1;32m     65\u001b[0m     counter \u001b[38;5;241m+\u001b[39m\u001b[38;5;241m=\u001b[39m\u001b[38;5;241m1\u001b[39m \n\u001b[0;32m---> 66\u001b[0m     track1_move_next_time \u001b[38;5;241m=\u001b[39m \u001b[43mbeats\u001b[49m\u001b[43m[\u001b[49m\u001b[43mcounter\u001b[49m\u001b[43m]\u001b[49m\n\u001b[1;32m     67\u001b[0m pygame\u001b[38;5;241m.\u001b[39mdisplay\u001b[38;5;241m.\u001b[39mflip()\n",
      "\u001b[0;31mIndexError\u001b[0m: index 385 is out of bounds for axis 0 with size 385"
     ]
    }
   ],
   "source": [
    "test_beats_visual(\"./songs/Drake - Pain 1993 (Audio) ft. Playboi Carti.mp3\")"
   ]
  }
 ],
 "metadata": {
  "kernelspec": {
   "display_name": "env",
   "language": "python",
   "name": "python3"
  },
  "language_info": {
   "codemirror_mode": {
    "name": "ipython",
    "version": 3
   },
   "file_extension": ".py",
   "mimetype": "text/x-python",
   "name": "python",
   "nbconvert_exporter": "python",
   "pygments_lexer": "ipython3",
   "version": "3.10.0"
  }
 },
 "nbformat": 4,
 "nbformat_minor": 2
}
