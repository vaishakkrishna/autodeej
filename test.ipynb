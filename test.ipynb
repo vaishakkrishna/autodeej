{
 "cells": [
  {
   "cell_type": "code",
   "execution_count": 1,
   "metadata": {},
   "outputs": [],
   "source": [
    "import librosa\n",
    "import numpy as np\n",
    "from models import Song"
   ]
  },
  {
   "cell_type": "code",
   "execution_count": 2,
   "metadata": {},
   "outputs": [
    {
     "name": "stdout",
     "output_type": "stream",
     "text": [
      "Estimated boundaries: [  0.           3.52943311  16.25396825  52.56997732  66.96634921\n",
      "  81.73424036 148.51482993 160.77496599 179.35092971 203.778322  ]\n",
      "Saving output to segments.txt\n",
      "No references found in assets/references/Pop Smoke - Creature ft. Swae Lee.jams. No evaluation performed.\n",
      "Estimated tempo: 143.5546875 beats per minute\n"
     ]
    }
   ],
   "source": [
    "# song_name = \"The Way Life Goes (feat. Oh Wonder)\"\n",
    "# song_name = \"Drake - Pain 1993 (Audio) ft. Playboi Carti\"\n",
    "song_name = \"Pop Smoke - Creature ft. Swae Lee\"\n",
    "filename = f\"assets/songs/{song_name}.mp3\"\n",
    "s1  = Song(filename)"
   ]
  },
  {
   "cell_type": "code",
   "execution_count": 3,
   "metadata": {},
   "outputs": [
    {
     "name": "stdout",
     "output_type": "stream",
     "text": [
      "Estimated boundaries: [  0.           0.41795918  14.11773243  34.69061224  48.39038549\n",
      "  69.38122449  89.95410431 118.70040816 144.79963719 163.23628118\n",
      " 197.64825397 197.67147392]\n",
      "Saving output to segments.txt\n",
      "No references found in assets/references/Travis Scott - 5 TINT (Audio).jams. No evaluation performed.\n",
      "Estimated tempo: 143.5546875 beats per minute\n"
     ]
    }
   ],
   "source": [
    "song_name = \"Travis Scott - 5 TINT (Audio)\"\n",
    "filename = f\"assets/songs/{song_name}.mp3\"\n",
    "s2  = Song(filename)"
   ]
  },
  {
   "cell_type": "code",
   "execution_count": 22,
   "metadata": {},
   "outputs": [
    {
     "data": {
      "text/plain": [
       "<_io.BufferedRandom name='output.mp3'>"
      ]
     },
     "execution_count": 22,
     "metadata": {},
     "output_type": "execute_result"
    }
   ],
   "source": [
    "from pydub import AudioSegment\n",
    "\n",
    "s1_segment = AudioSegment.from_mp3(s1.name)\n",
    "s1_segment = s1_segment[:s1.sections[6]*1000]\n",
    "s2_segment = AudioSegment.from_mp3(s2.name)\n",
    "s2_segment = s2_segment[s2.sections[3]*1000:s2.sections[5]*1000]\n",
    "crossfaded = s1_segment.append(s2_segment)\n",
    "crossfaded.export(\"output.mp3\", format=\"mp3\")\n",
    "\n"
   ]
  },
  {
   "cell_type": "code",
   "execution_count": 23,
   "metadata": {},
   "outputs": [
    {
     "data": {
      "text/plain": [
       "array([  0.        ,   3.52943311,  16.25396825,  52.56997732,\n",
       "        66.96634921,  81.73424036, 148.51482993, 160.77496599,\n",
       "       179.35092971, 203.778322  ])"
      ]
     },
     "execution_count": 23,
     "metadata": {},
     "output_type": "execute_result"
    }
   ],
   "source": [
    "s1.sections"
   ]
  },
  {
   "cell_type": "code",
   "execution_count": 1,
   "metadata": {},
   "outputs": [],
   "source": [
    "import madmom"
   ]
  },
  {
   "cell_type": "code",
   "execution_count": 2,
   "metadata": {},
   "outputs": [],
   "source": [
    "song_name = \"Travis Scott - 5 TINT (Audio)\"\n",
    "filename = f\"assets/songs/{song_name}.mp3\""
   ]
  },
  {
   "cell_type": "code",
   "execution_count": 3,
   "metadata": {},
   "outputs": [
    {
     "ename": "ModuleNotFoundError",
     "evalue": "No module named 'pyaudio'",
     "output_type": "error",
     "traceback": [
      "\u001b[0;31m---------------------------------------------------------------------------\u001b[0m",
      "\u001b[0;31mModuleNotFoundError\u001b[0m                       Traceback (most recent call last)",
      "Cell \u001b[0;32mIn[3], line 1\u001b[0m\n\u001b[0;32m----> 1\u001b[0m \u001b[38;5;28;01mfrom\u001b[39;00m \u001b[38;5;21;01mBeatNet\u001b[39;00m\u001b[38;5;21;01m.\u001b[39;00m\u001b[38;5;21;01mBeatNet\u001b[39;00m \u001b[38;5;28;01mimport\u001b[39;00m BeatNet\n\u001b[1;32m      3\u001b[0m estimator \u001b[38;5;241m=\u001b[39m BeatNet(\u001b[38;5;241m1\u001b[39m, mode\u001b[38;5;241m=\u001b[39m\u001b[38;5;124m'\u001b[39m\u001b[38;5;124moffline\u001b[39m\u001b[38;5;124m'\u001b[39m, inference_model\u001b[38;5;241m=\u001b[39m\u001b[38;5;124m'\u001b[39m\u001b[38;5;124mDBN\u001b[39m\u001b[38;5;124m'\u001b[39m, plot\u001b[38;5;241m=\u001b[39m[], thread\u001b[38;5;241m=\u001b[39m\u001b[38;5;28;01mFalse\u001b[39;00m)\n\u001b[1;32m      5\u001b[0m Output \u001b[38;5;241m=\u001b[39m estimator\u001b[38;5;241m.\u001b[39mprocess(\u001b[38;5;124m\"\u001b[39m\u001b[38;5;124mfilename\u001b[39m\u001b[38;5;124m\"\u001b[39m)\n",
      "File \u001b[0;32m~/Documents/PersonalProjects/autodeej/env/lib/python3.10/site-packages/BeatNet/BeatNet.py:14\u001b[0m\n\u001b[1;32m     12\u001b[0m \u001b[38;5;28;01mimport\u001b[39;00m \u001b[38;5;21;01msys\u001b[39;00m\n\u001b[1;32m     13\u001b[0m \u001b[38;5;28;01mfrom\u001b[39;00m \u001b[38;5;21;01mBeatNet\u001b[39;00m\u001b[38;5;21;01m.\u001b[39;00m\u001b[38;5;21;01mmodel\u001b[39;00m \u001b[38;5;28;01mimport\u001b[39;00m BDA\n\u001b[0;32m---> 14\u001b[0m \u001b[38;5;28;01mimport\u001b[39;00m \u001b[38;5;21;01mpyaudio\u001b[39;00m\n\u001b[1;32m     15\u001b[0m \u001b[38;5;28;01mimport\u001b[39;00m \u001b[38;5;21;01mmatplotlib\u001b[39;00m\u001b[38;5;21;01m.\u001b[39;00m\u001b[38;5;21;01mpyplot\u001b[39;00m \u001b[38;5;28;01mas\u001b[39;00m \u001b[38;5;21;01mplt\u001b[39;00m\n\u001b[1;32m     16\u001b[0m \u001b[38;5;28;01mimport\u001b[39;00m \u001b[38;5;21;01mtime\u001b[39;00m\n",
      "\u001b[0;31mModuleNotFoundError\u001b[0m: No module named 'pyaudio'"
     ]
    }
   ],
   "source": [
    "from BeatNet.BeatNet import BeatNet\n",
    "\n",
    "estimator = BeatNet(1, mode='offline', inference_model='DBN', plot=[], thread=False)\n",
    "\n",
    "Output = estimator.process(\"filename\")"
   ]
  }
 ],
 "metadata": {
  "kernelspec": {
   "display_name": "env",
   "language": "python",
   "name": "python3"
  },
  "language_info": {
   "codemirror_mode": {
    "name": "ipython",
    "version": 3
   },
   "file_extension": ".py",
   "mimetype": "text/x-python",
   "name": "python",
   "nbconvert_exporter": "python",
   "pygments_lexer": "ipython3",
   "version": "3.10.0"
  }
 },
 "nbformat": 4,
 "nbformat_minor": 2
}
